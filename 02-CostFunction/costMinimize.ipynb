{
 "cells": [
  {
   "cell_type": "code",
   "execution_count": 4,
   "metadata": {
    "collapsed": false
   },
   "outputs": [
    {
     "name": "stdout",
     "output_type": "stream",
     "text": [
      "0 4.09911 [ 0.0627808]\n",
      "1 1.16597 [ 0.50014973]\n",
      "2 0.331653 [ 0.73341322]\n",
      "3 0.0943369 [ 0.85782039]\n",
      "4 0.0268336 [ 0.92417091]\n",
      "5 0.00763265 [ 0.95955783]\n",
      "6 0.00217106 [ 0.97843087]\n",
      "7 0.000617548 [ 0.98849642]\n",
      "8 0.000175658 [ 0.99386477]\n",
      "9 4.99652e-05 [ 0.99672788]\n",
      "10 1.42114e-05 [ 0.9982549]\n",
      "11 4.0424e-06 [ 0.99906927]\n",
      "12 1.14987e-06 [ 0.99950361]\n",
      "13 3.27196e-07 [ 0.99973524]\n",
      "14 9.30627e-08 [ 0.9998588]\n",
      "15 2.64379e-08 [ 0.99992472]\n",
      "16 7.54117e-09 [ 0.99995983]\n",
      "17 2.13421e-09 [ 0.9999786]\n",
      "18 6.1118e-10 [ 0.99998856]\n",
      "19 1.71047e-10 [ 0.99999392]\n",
      "20 4.97629e-11 [ 0.99999672]\n",
      "21 1.41505e-11 [ 0.99999827]\n",
      "22 3.62495e-12 [ 0.99999911]\n",
      "23 1.06108e-12 [ 0.99999952]\n",
      "24 2.65269e-13 [ 0.99999976]\n",
      "25 9.9476e-14 [ 0.99999988]\n",
      "26 2.4869e-14 [ 0.99999994]\n",
      "27 0.0 [ 1.]\n",
      "28 0.0 [ 1.]\n",
      "29 0.0 [ 1.]\n"
     ]
    }
   ],
   "source": [
    "import tensorflow as tf\n",
    "\n",
    "# Train data set\n",
    "x_data = [1, 2, 3]\n",
    "y_data = [1, 2, 3]\n",
    "\n",
    "# Try to find values for W and b that compute y_data = W * x_data + b\n",
    "# Weight include Bias in matrix\n",
    "W = tf.Variable(tf.random_uniform([1], -10.0, 10.0))\n",
    "\n",
    "# Placeholder\n",
    "X = tf.placeholder(tf.float32)\n",
    "Y = tf.placeholder(tf.float32)\n",
    "\n",
    "# Simplifed Hypothesis (Change x_data to X, W include Bias)\n",
    "hypothesis = W * X\n",
    "\n",
    "# Simplified cost function(Change y_data to Y)\n",
    "cost = tf.reduce_mean(tf.square(hypothesis - Y))\n",
    "\n",
    "# Implementation of Minimize (Descent algorithm)\n",
    "# Variable 'a' is Learning rate, alpha\n",
    "a = tf.Variable(0.1)\n",
    "descent = W - tf.mul(a, tf.reduce_mean(tf.mul((tf.mul(W, X) - Y), X)))\n",
    "update = W.assign(descent)\n",
    "\n",
    "# Before starting, initialize the variables.\n",
    "init = tf.initialize_all_variables()\n",
    "\n",
    "# Launch the graph.\n",
    "sess = tf.Session()\n",
    "sess.run(init)\n",
    "\n",
    "# Fit the line\n",
    "for step in xrange(30):\n",
    "\tsess.run(update, feed_dict={X:x_data, Y:y_data})\n",
    "\tprint step, sess.run(cost, feed_dict={X:x_data, Y:y_data}), sess.run(W)\n"
   ]
  }
 ],
 "metadata": {
  "kernelspec": {
   "display_name": "Python 2",
   "language": "python",
   "name": "python2"
  },
  "language_info": {
   "codemirror_mode": {
    "name": "ipython",
    "version": 2
   },
   "file_extension": ".py",
   "mimetype": "text/x-python",
   "name": "python",
   "nbconvert_exporter": "python",
   "pygments_lexer": "ipython2",
   "version": "2.7.6"
  }
 },
 "nbformat": 4,
 "nbformat_minor": 0
}
